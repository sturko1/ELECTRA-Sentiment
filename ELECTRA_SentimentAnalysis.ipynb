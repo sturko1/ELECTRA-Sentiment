{
  "cells": [
    {
      "cell_type": "code",
      "execution_count": null,
      "id": "QKJeP6JZckod",
      "metadata": {
        "colab": {
          "base_uri": "https://localhost:8080/"
        },
        "id": "QKJeP6JZckod",
        "outputId": "6abb8d16-3b98-4829-ca49-28417cea365c"
      },
      "outputs": [
        {
          "name": "stdout",
          "output_type": "stream",
          "text": [
            "Drive already mounted at /content/drive; to attempt to forcibly remount, call drive.mount(\"/content/drive\", force_remount=True).\n"
          ]
        }
      ],
      "source": [
        "from google.colab import drive\n",
        "drive.mount('/content/drive')"
      ]
    },
    {
      "cell_type": "code",
      "execution_count": null,
      "id": "cefc0462",
      "metadata": {
        "id": "cefc0462"
      },
      "outputs": [],
      "source": [
        "import torch\n",
        "import json\n",
        "import pandas as pd\n",
        "import torch.nn as nn\n",
        "import numpy as np\n",
        "import torch.optim as optim\n",
        "from tqdm.auto import tqdm\n",
        "from torch.utils.data import DataLoader, TensorDataset\n",
        "from sklearn.metrics import accuracy_score, f1_score\n",
        "from transformers import BertTokenizer, BertForSequenceClassification, get_scheduler\n",
        "from transformers import ElectraTokenizer, ElectraForSequenceClassification"
      ]
    },
    {
      "cell_type": "code",
      "execution_count": null,
      "id": "8496beff",
      "metadata": {
        "id": "8496beff"
      },
      "outputs": [],
      "source": [
        "# Load the datasets\n",
        "def load_dataset(file_path):\n",
        "    with open(file_path, 'r') as file:\n",
        "        data = [json.loads(line) for line in file]\n",
        "    return data\n",
        "\n",
        "train_data = load_dataset('/content/drive/MyDrive/DAP/projekat/ELECTRA/Emotion Detection/train.jsonl')\n",
        "validation_data = load_dataset('/content/drive/MyDrive/DAP/projekat/ELECTRA/Emotion Detection/validation.jsonl')\n",
        "test_data = load_dataset('/content/drive/MyDrive/DAP/projekat/ELECTRA/Emotion Detection/test.jsonl')"
      ]
    },
    {
      "cell_type": "code",
      "execution_count": null,
      "id": "682c1ae9",
      "metadata": {
        "id": "682c1ae9"
      },
      "outputs": [],
      "source": [
        "def text_extract (data):\n",
        "    text, label = [], []\n",
        "    for idx in range(len(data)):\n",
        "        text.append(data[idx]['text'])\n",
        "        label.append(data[idx]['label'])\n",
        "    return text, label\n",
        "\n",
        "train_texts, train_labels= text_extract (train_data)\n",
        "\n",
        "dev_texts, dev_labels= text_extract (validation_data)\n",
        "\n",
        "test_texts, test_labels= text_extract (test_data)"
      ]
    },
    {
      "cell_type": "code",
      "execution_count": null,
      "id": "c077ea8f",
      "metadata": {
        "id": "c077ea8f"
      },
      "outputs": [],
      "source": [
        "# Load the pre-trained BERT tokenizer and model\n",
        "#tokenizer = BertTokenizer.from_pretrained('bert-base-uncased')\n",
        "tokenizer = ElectraTokenizer.from_pretrained('google/electra-base-discriminator')"
      ]
    },
    {
      "cell_type": "code",
      "execution_count": null,
      "id": "7f2e351d",
      "metadata": {
        "id": "7f2e351d"
      },
      "outputs": [],
      "source": [
        "# Tokenize the input texts\n",
        "tokenized_train_texts = tokenizer(train_texts, padding=True, truncation=True, return_tensors='pt')\n",
        "\n",
        "tokenized_dev_texts = tokenizer(dev_texts, padding=True, truncation=True, return_tensors='pt')\n",
        "\n",
        "tokenized_test_texts = tokenizer(test_texts, padding=True, truncation=True, return_tensors='pt')\n",
        "\n",
        "# Convert the labels to tensor\n",
        "train_labels = torch.tensor(train_labels)\n",
        "\n",
        "dev_labels = torch.tensor(dev_labels)\n",
        "\n",
        "test_labels = torch.tensor(test_labels)"
      ]
    },
    {
      "cell_type": "code",
      "execution_count": null,
      "id": "78d07374",
      "metadata": {
        "id": "78d07374"
      },
      "outputs": [],
      "source": [
        "# Define hyperparameters\n",
        "learning_rate = 8.1e-3\n",
        "batch_size = 32\n",
        "weight_decay = 3e-4\n",
        "num_epochs = 100"
      ]
    },
    {
      "cell_type": "code",
      "execution_count": null,
      "id": "Q5OW1uH4gN-O",
      "metadata": {
        "id": "Q5OW1uH4gN-O"
      },
      "outputs": [],
      "source": []
    },
    {
      "cell_type": "code",
      "execution_count": null,
      "id": "MlPsShCLsojb",
      "metadata": {
        "id": "MlPsShCLsojb"
      },
      "outputs": [],
      "source": [
        "# Define hyperparameters\n",
        "#learning_rate = 2e-5\n",
        "#batch_size = 32\n",
        "#weight_decay = 1e-4\n",
        "#num_epochs = 5"
      ]
    },
    {
      "cell_type": "code",
      "execution_count": null,
      "id": "b12c2e61",
      "metadata": {
        "id": "b12c2e61"
      },
      "outputs": [],
      "source": [
        "# Create TensorDatasets for train, dev, and test sets\n",
        "train_dataset = TensorDataset(tokenized_train_texts['input_ids'], tokenized_train_texts['attention_mask'], train_labels)\n",
        "\n",
        "dev_dataset = TensorDataset(tokenized_dev_texts['input_ids'], tokenized_dev_texts['attention_mask'], dev_labels)\n",
        "\n",
        "test_dataset = TensorDataset(tokenized_test_texts['input_ids'], tokenized_test_texts['attention_mask'], test_labels)\n",
        "\n",
        "\n",
        "# Create DataLoaders for train, dev, and test sets\n",
        "train_dataloader = DataLoader(train_dataset, batch_size= batch_size, shuffle= True)\n",
        "\n",
        "dev_dataloader = DataLoader(dev_dataset, batch_size= batch_size, shuffle= False)\n",
        "\n",
        "test_dataloader = DataLoader(test_dataset, batch_size= batch_size, shuffle= False)"
      ]
    },
    {
      "cell_type": "code",
      "execution_count": null,
      "id": "942b5152",
      "metadata": {
        "colab": {
          "base_uri": "https://localhost:8080/"
        },
        "id": "942b5152",
        "outputId": "350f80c5-5f25-4fb0-a4f2-f8ac2b318ade"
      },
      "outputs": [
        {
          "name": "stderr",
          "output_type": "stream",
          "text": [
            "Some weights of ElectraForSequenceClassification were not initialized from the model checkpoint at google/electra-base-discriminator and are newly initialized: ['classifier.dense.bias', 'classifier.dense.weight', 'classifier.out_proj.bias', 'classifier.out_proj.weight']\n",
            "You should probably TRAIN this model on a down-stream task to be able to use it for predictions and inference.\n"
          ]
        }
      ],
      "source": [
        "# Load the pre-trained BERT model for sequence classification\n",
        "#model = BertForSequenceClassification.from_pretrained('bert-base-uncased', num_labels= 6)\n",
        "\n",
        "model = ElectraForSequenceClassification.from_pretrained('google/electra-base-discriminator', num_labels=6)\n",
        "\n",
        "# Freeze all layers except the classification layer\n",
        "for param in model.parameters():\n",
        "    param.requires_grad = False\n",
        "for param in model.classifier.parameters():\n",
        "    param.requires_grad = True"
      ]
    },
    {
      "cell_type": "code",
      "execution_count": null,
      "id": "9789f8c2",
      "metadata": {
        "id": "9789f8c2"
      },
      "outputs": [],
      "source": [
        "# Define the optimizer for training the softmax layer\n",
        "optimizer = optim.Adam(model.classifier.parameters(), lr= learning_rate, weight_decay= weight_decay)\n",
        "\n",
        "device = torch.device(\"cuda\") if torch.cuda.is_available() else torch.device(\"cpu\")\n",
        "model.to(device)\n",
        "\n",
        "# Define the loss function\n",
        "criterion = nn.CrossEntropyLoss()"
      ]
    },
    {
      "cell_type": "code",
      "execution_count": null,
      "id": "42c118d3",
      "metadata": {
        "colab": {
          "base_uri": "https://localhost:8080/",
          "height": 49,
          "referenced_widgets": [
            "7f21a3dba0e04e1fae86f8665bf90f34",
            "cc227426ce4d4b58aff220b2e4a25908",
            "e6449ed72b0c42efa7ebb93fb395f1e6",
            "6ea26cecb78a43e7993b083f9cfccaea",
            "6f3a64a85e204519b9bcf1a973721c56",
            "cd21bca3836f4b2aa52acfd43f092dbd",
            "34dd87c1ac1c4badad1a49c5067a3b07",
            "e28658db4b1641b7a62ab14bfe5bf82f",
            "72e07d66eec34a1098e7e516c349b9ca",
            "3fae2a36f2d64da39b69a705c66d30ac",
            "2879beb90e8f48b58f297c73f7675002"
          ]
        },
        "id": "42c118d3",
        "outputId": "3f077aa8-88b8-4385-81a5-41d4f0a96409"
      },
      "outputs": [
        {
          "data": {
            "application/vnd.jupyter.widget-view+json": {
              "model_id": "7f21a3dba0e04e1fae86f8665bf90f34",
              "version_major": 2,
              "version_minor": 0
            },
            "text/plain": [
              "  0%|          | 0/50000 [00:00<?, ?it/s]"
            ]
          },
          "metadata": {},
          "output_type": "display_data"
        }
      ],
      "source": [
        "num_training_steps = num_epochs * len(train_dataloader)\n",
        "lr_scheduler = get_scheduler(\n",
        "    \"linear\",\n",
        "    optimizer= optimizer,\n",
        "    num_warmup_steps= 0,\n",
        "    num_training_steps= num_training_steps,\n",
        ")\n",
        "\n",
        "progress_bar = tqdm(range(num_training_steps))"
      ]
    },
    {
      "cell_type": "code",
      "execution_count": null,
      "id": "03faf7ba",
      "metadata": {
        "colab": {
          "background_save": true,
          "base_uri": "https://localhost:8080/",
          "height": 728
        },
        "id": "03faf7ba",
        "outputId": "07fd7a0f-b427-4b66-a1cd-ccdc3b0ac421"
      },
      "outputs": [
        {
          "name": "stdout",
          "output_type": "stream",
          "text": [
            "epoch No. : 0, Devset Accuracy : 0.426, Devset f1_score : 0.32674, Average loss: 1.50919\n"
          ]
        }
      ],
      "source": [
        "# Train the model\n",
        "best_dev_accuracy = 0.0\n",
        "best_model_state_dict = None\n",
        "Validation_results= []\n",
        "\n",
        "for epoch in range(num_epochs):\n",
        "    # Training loop\n",
        "    model.train()\n",
        "    for batch in train_dataloader:\n",
        "        input_ids, attention_mask, batch_labels = batch\n",
        "\n",
        "        input_ids= input_ids.to(device)\n",
        "        attention_mask= attention_mask.to(device)\n",
        "        batch_labels= batch_labels.to(device)\n",
        "\n",
        "        optimizer.zero_grad()\n",
        "        outputs = model(input_ids= input_ids, attention_mask= attention_mask, labels= batch_labels)\n",
        "        loss = outputs.loss\n",
        "        loss.backward()\n",
        "        optimizer.step()\n",
        "        #### to show progress_bar\n",
        "        lr_scheduler.step()\n",
        "        progress_bar.update(1)\n",
        "\n",
        "\n",
        "    # Validation loop\n",
        "    model.eval()\n",
        "    dev_correct = 0\n",
        "    total_dev = 0\n",
        "    y_true = []\n",
        "    y_pred = []\n",
        "    loss_epoch= []\n",
        "    with torch.no_grad():\n",
        "        for batch in dev_dataloader:\n",
        "            input_ids, attention_mask, batch_labels = batch\n",
        "\n",
        "            input_ids= input_ids.to(device)\n",
        "            attention_mask= attention_mask.to(device)\n",
        "            batch_labels= batch_labels.to(device)\n",
        "\n",
        "            outputs = model(input_ids=input_ids, attention_mask=attention_mask)\n",
        "            logits = outputs.logits\n",
        "            _, predicted = torch.max(logits, 1)\n",
        "\n",
        "            # Append true labels and predicted labels for later use\n",
        "            y_true.extend(batch_labels.tolist())\n",
        "            y_pred.extend(predicted.tolist())\n",
        "\n",
        "            # Calculate the loss\n",
        "            loss = criterion(logits, batch_labels)\n",
        "            loss_epoch.append(loss)\n",
        "\n",
        "    # Calculate accuracy and F1 score\n",
        "    f1 = f1_score(y_true, y_pred, average='weighted')\n",
        "    accuracy = accuracy_score(y_true, y_pred)\n",
        "\n",
        "    # Calculate the average loss\n",
        "    loss_epoch_np = [tensor.cpu().detach().numpy() for tensor in loss_epoch]\n",
        "    average_loss= np.mean(loss_epoch_np)\n",
        "    print(f'epoch No. : {epoch}, Devset Accuracy : {round(accuracy,5)}, Devset f1_score : {round(f1,5)}, Average loss: {round(average_loss.tolist(),5)}')\n",
        "\n",
        "    Validation_results.append([accuracy, f1, average_loss])\n",
        "\n",
        "    if accuracy > best_dev_accuracy:\n",
        "        best_dev_accuracy = accuracy\n",
        "        # Save the best model (optional)\n",
        "        best_model_state_dict = model.state_dict()"
      ]
    },
    {
      "cell_type": "code",
      "execution_count": null,
      "id": "50b60159",
      "metadata": {
        "id": "50b60159"
      },
      "outputs": [],
      "source": [
        "# Saving Testset Results\n",
        "data = {\n",
        "    'Validation_results': Validation_results,\n",
        "}\n",
        "df = pd.DataFrame(data)\n",
        "df.to_csv('/content/drive/MyDrive/DAP/projekat/ELECTRA/projekat_Validation_results.csv', index= False)"
      ]
    },
    {
      "cell_type": "code",
      "execution_count": null,
      "id": "4a1a285c",
      "metadata": {
        "id": "4a1a285c"
      },
      "outputs": [],
      "source": [
        "# Load the best model state dict\n",
        "if best_model_state_dict is not None:\n",
        "    model.load_state_dict(best_model_state_dict)\n",
        "\n",
        "    # Define the directory path to save the model\n",
        "    save_path = '/content/drive/MyDrive/DAP/projekat/ELECTRA/Model-4-3.pth'\n",
        "\n",
        "    # Save the model state dictionary and other relevant information\n",
        "    torch.save({\n",
        "        'model_state_dict': best_model_state_dict,\n",
        "        'tokenizer': tokenizer\n",
        "    }, save_path)"
      ]
    },
    {
      "cell_type": "code",
      "execution_count": null,
      "id": "a7d22992",
      "metadata": {
        "id": "a7d22992"
      },
      "outputs": [],
      "source": [
        "# Evaluate on the test set\n",
        "model.eval()\n",
        "y_true_test = []\n",
        "y_pred_test = []\n",
        "loss_epoch= []\n",
        "\n",
        "with torch.no_grad():\n",
        "    for batch in test_dataloader:\n",
        "        input_ids, attention_mask, batch_labels = batch\n",
        "\n",
        "        input_ids= input_ids.to(device)\n",
        "        attention_mask= attention_mask.to(device)\n",
        "        batch_labels= batch_labels.to(device)\n",
        "\n",
        "        outputs = model(input_ids=input_ids, attention_mask=attention_mask)\n",
        "        logits = outputs.logits\n",
        "        _, predicted = torch.max(logits, 1)\n",
        "\n",
        "        # Append true labels and predicted labels for later use\n",
        "        y_true_test.extend(batch_labels.tolist())\n",
        "        y_pred_test.extend(predicted.tolist())\n",
        "\n",
        "        # Calculate the loss\n",
        "        loss = criterion(logits, batch_labels)\n",
        "        loss_epoch.append(loss)\n",
        "\n",
        "# Calculate accuracy and F1 score for the test set\n",
        "test_accuracy = accuracy_score(y_true_test, y_pred_test)\n",
        "test_f1 = f1_score(y_true_test, y_pred_test, average='weighted')\n",
        "\n",
        "# Calculate the average loss\n",
        "loss_epoch_np = [tensor.cpu().detach().numpy() for tensor in loss_epoch]\n",
        "average_loss= np.mean(loss_epoch_np)\n",
        "\n",
        "print(f\"Testset accuracy: {round(test_accuracy,5)} , Testset F1 score: {round(test_f1,5)}, Average loss: {round(average_loss.tolist(),5)}\")\n",
        "Test_results= [test_accuracy, test_f1, average_loss]"
      ]
    },
    {
      "cell_type": "code",
      "execution_count": null,
      "id": "814fa811",
      "metadata": {
        "id": "814fa811"
      },
      "outputs": [],
      "source": [
        "# Saving Testset Results\n",
        "data = {\n",
        "    'Test_results': Test_results\n",
        "}\n",
        "df = pd.DataFrame(data)\n",
        "df.to_csv('/content/drive/MyDrive/DAP/projekat/ELECTRA/projekat_Test_results.csv', index= False)"
      ]
    },
    {
      "cell_type": "code",
      "execution_count": null,
      "id": "55d0f2bd",
      "metadata": {
        "id": "55d0f2bd"
      },
      "outputs": [],
      "source": []
    }
  ],
  "metadata": {
    "accelerator": "GPU",
    "colab": {
      "gpuType": "T4",
      "provenance": []
    },
    "kernelspec": {
      "display_name": "Python 3",
      "name": "python3"
    },
    "language_info": {
      "codemirror_mode": {
        "name": "ipython",
        "version": 3
      },
      "file_extension": ".py",
      "mimetype": "text/x-python",
      "name": "python",
      "nbconvert_exporter": "python",
      "pygments_lexer": "ipython3",
      "version": "3.10.9"
    },
    "widgets": {
      "application/vnd.jupyter.widget-state+json": {
        "2879beb90e8f48b58f297c73f7675002": {
          "model_module": "@jupyter-widgets/controls",
          "model_module_version": "1.5.0",
          "model_name": "DescriptionStyleModel",
          "state": {
            "_model_module": "@jupyter-widgets/controls",
            "_model_module_version": "1.5.0",
            "_model_name": "DescriptionStyleModel",
            "_view_count": null,
            "_view_module": "@jupyter-widgets/base",
            "_view_module_version": "1.2.0",
            "_view_name": "StyleView",
            "description_width": ""
          }
        },
        "34dd87c1ac1c4badad1a49c5067a3b07": {
          "model_module": "@jupyter-widgets/controls",
          "model_module_version": "1.5.0",
          "model_name": "DescriptionStyleModel",
          "state": {
            "_model_module": "@jupyter-widgets/controls",
            "_model_module_version": "1.5.0",
            "_model_name": "DescriptionStyleModel",
            "_view_count": null,
            "_view_module": "@jupyter-widgets/base",
            "_view_module_version": "1.2.0",
            "_view_name": "StyleView",
            "description_width": ""
          }
        },
        "3fae2a36f2d64da39b69a705c66d30ac": {
          "model_module": "@jupyter-widgets/base",
          "model_module_version": "1.2.0",
          "model_name": "LayoutModel",
          "state": {
            "_model_module": "@jupyter-widgets/base",
            "_model_module_version": "1.2.0",
            "_model_name": "LayoutModel",
            "_view_count": null,
            "_view_module": "@jupyter-widgets/base",
            "_view_module_version": "1.2.0",
            "_view_name": "LayoutView",
            "align_content": null,
            "align_items": null,
            "align_self": null,
            "border": null,
            "bottom": null,
            "display": null,
            "flex": null,
            "flex_flow": null,
            "grid_area": null,
            "grid_auto_columns": null,
            "grid_auto_flow": null,
            "grid_auto_rows": null,
            "grid_column": null,
            "grid_gap": null,
            "grid_row": null,
            "grid_template_areas": null,
            "grid_template_columns": null,
            "grid_template_rows": null,
            "height": null,
            "justify_content": null,
            "justify_items": null,
            "left": null,
            "margin": null,
            "max_height": null,
            "max_width": null,
            "min_height": null,
            "min_width": null,
            "object_fit": null,
            "object_position": null,
            "order": null,
            "overflow": null,
            "overflow_x": null,
            "overflow_y": null,
            "padding": null,
            "right": null,
            "top": null,
            "visibility": null,
            "width": null
          }
        },
        "6ea26cecb78a43e7993b083f9cfccaea": {
          "model_module": "@jupyter-widgets/controls",
          "model_module_version": "1.5.0",
          "model_name": "HTMLModel",
          "state": {
            "_dom_classes": [],
            "_model_module": "@jupyter-widgets/controls",
            "_model_module_version": "1.5.0",
            "_model_name": "HTMLModel",
            "_view_count": null,
            "_view_module": "@jupyter-widgets/controls",
            "_view_module_version": "1.5.0",
            "_view_name": "HTMLView",
            "description": "",
            "description_tooltip": null,
            "layout": "IPY_MODEL_3fae2a36f2d64da39b69a705c66d30ac",
            "placeholder": "​",
            "style": "IPY_MODEL_2879beb90e8f48b58f297c73f7675002",
            "value": " 19618/50000 [1:03:38&lt;1:30:11,  5.61it/s]"
          }
        },
        "6f3a64a85e204519b9bcf1a973721c56": {
          "model_module": "@jupyter-widgets/base",
          "model_module_version": "1.2.0",
          "model_name": "LayoutModel",
          "state": {
            "_model_module": "@jupyter-widgets/base",
            "_model_module_version": "1.2.0",
            "_model_name": "LayoutModel",
            "_view_count": null,
            "_view_module": "@jupyter-widgets/base",
            "_view_module_version": "1.2.0",
            "_view_name": "LayoutView",
            "align_content": null,
            "align_items": null,
            "align_self": null,
            "border": null,
            "bottom": null,
            "display": null,
            "flex": null,
            "flex_flow": null,
            "grid_area": null,
            "grid_auto_columns": null,
            "grid_auto_flow": null,
            "grid_auto_rows": null,
            "grid_column": null,
            "grid_gap": null,
            "grid_row": null,
            "grid_template_areas": null,
            "grid_template_columns": null,
            "grid_template_rows": null,
            "height": null,
            "justify_content": null,
            "justify_items": null,
            "left": null,
            "margin": null,
            "max_height": null,
            "max_width": null,
            "min_height": null,
            "min_width": null,
            "object_fit": null,
            "object_position": null,
            "order": null,
            "overflow": null,
            "overflow_x": null,
            "overflow_y": null,
            "padding": null,
            "right": null,
            "top": null,
            "visibility": null,
            "width": null
          }
        },
        "72e07d66eec34a1098e7e516c349b9ca": {
          "model_module": "@jupyter-widgets/controls",
          "model_module_version": "1.5.0",
          "model_name": "ProgressStyleModel",
          "state": {
            "_model_module": "@jupyter-widgets/controls",
            "_model_module_version": "1.5.0",
            "_model_name": "ProgressStyleModel",
            "_view_count": null,
            "_view_module": "@jupyter-widgets/base",
            "_view_module_version": "1.2.0",
            "_view_name": "StyleView",
            "bar_color": null,
            "description_width": ""
          }
        },
        "7f21a3dba0e04e1fae86f8665bf90f34": {
          "model_module": "@jupyter-widgets/controls",
          "model_module_version": "1.5.0",
          "model_name": "HBoxModel",
          "state": {
            "_dom_classes": [],
            "_model_module": "@jupyter-widgets/controls",
            "_model_module_version": "1.5.0",
            "_model_name": "HBoxModel",
            "_view_count": null,
            "_view_module": "@jupyter-widgets/controls",
            "_view_module_version": "1.5.0",
            "_view_name": "HBoxView",
            "box_style": "",
            "children": [
              "IPY_MODEL_cc227426ce4d4b58aff220b2e4a25908",
              "IPY_MODEL_e6449ed72b0c42efa7ebb93fb395f1e6",
              "IPY_MODEL_6ea26cecb78a43e7993b083f9cfccaea"
            ],
            "layout": "IPY_MODEL_6f3a64a85e204519b9bcf1a973721c56"
          }
        },
        "cc227426ce4d4b58aff220b2e4a25908": {
          "model_module": "@jupyter-widgets/controls",
          "model_module_version": "1.5.0",
          "model_name": "HTMLModel",
          "state": {
            "_dom_classes": [],
            "_model_module": "@jupyter-widgets/controls",
            "_model_module_version": "1.5.0",
            "_model_name": "HTMLModel",
            "_view_count": null,
            "_view_module": "@jupyter-widgets/controls",
            "_view_module_version": "1.5.0",
            "_view_name": "HTMLView",
            "description": "",
            "description_tooltip": null,
            "layout": "IPY_MODEL_cd21bca3836f4b2aa52acfd43f092dbd",
            "placeholder": "​",
            "style": "IPY_MODEL_34dd87c1ac1c4badad1a49c5067a3b07",
            "value": " 39%"
          }
        },
        "cd21bca3836f4b2aa52acfd43f092dbd": {
          "model_module": "@jupyter-widgets/base",
          "model_module_version": "1.2.0",
          "model_name": "LayoutModel",
          "state": {
            "_model_module": "@jupyter-widgets/base",
            "_model_module_version": "1.2.0",
            "_model_name": "LayoutModel",
            "_view_count": null,
            "_view_module": "@jupyter-widgets/base",
            "_view_module_version": "1.2.0",
            "_view_name": "LayoutView",
            "align_content": null,
            "align_items": null,
            "align_self": null,
            "border": null,
            "bottom": null,
            "display": null,
            "flex": null,
            "flex_flow": null,
            "grid_area": null,
            "grid_auto_columns": null,
            "grid_auto_flow": null,
            "grid_auto_rows": null,
            "grid_column": null,
            "grid_gap": null,
            "grid_row": null,
            "grid_template_areas": null,
            "grid_template_columns": null,
            "grid_template_rows": null,
            "height": null,
            "justify_content": null,
            "justify_items": null,
            "left": null,
            "margin": null,
            "max_height": null,
            "max_width": null,
            "min_height": null,
            "min_width": null,
            "object_fit": null,
            "object_position": null,
            "order": null,
            "overflow": null,
            "overflow_x": null,
            "overflow_y": null,
            "padding": null,
            "right": null,
            "top": null,
            "visibility": null,
            "width": null
          }
        },
        "e28658db4b1641b7a62ab14bfe5bf82f": {
          "model_module": "@jupyter-widgets/base",
          "model_module_version": "1.2.0",
          "model_name": "LayoutModel",
          "state": {
            "_model_module": "@jupyter-widgets/base",
            "_model_module_version": "1.2.0",
            "_model_name": "LayoutModel",
            "_view_count": null,
            "_view_module": "@jupyter-widgets/base",
            "_view_module_version": "1.2.0",
            "_view_name": "LayoutView",
            "align_content": null,
            "align_items": null,
            "align_self": null,
            "border": null,
            "bottom": null,
            "display": null,
            "flex": null,
            "flex_flow": null,
            "grid_area": null,
            "grid_auto_columns": null,
            "grid_auto_flow": null,
            "grid_auto_rows": null,
            "grid_column": null,
            "grid_gap": null,
            "grid_row": null,
            "grid_template_areas": null,
            "grid_template_columns": null,
            "grid_template_rows": null,
            "height": null,
            "justify_content": null,
            "justify_items": null,
            "left": null,
            "margin": null,
            "max_height": null,
            "max_width": null,
            "min_height": null,
            "min_width": null,
            "object_fit": null,
            "object_position": null,
            "order": null,
            "overflow": null,
            "overflow_x": null,
            "overflow_y": null,
            "padding": null,
            "right": null,
            "top": null,
            "visibility": null,
            "width": null
          }
        },
        "e6449ed72b0c42efa7ebb93fb395f1e6": {
          "model_module": "@jupyter-widgets/controls",
          "model_module_version": "1.5.0",
          "model_name": "FloatProgressModel",
          "state": {
            "_dom_classes": [],
            "_model_module": "@jupyter-widgets/controls",
            "_model_module_version": "1.5.0",
            "_model_name": "FloatProgressModel",
            "_view_count": null,
            "_view_module": "@jupyter-widgets/controls",
            "_view_module_version": "1.5.0",
            "_view_name": "ProgressView",
            "bar_style": "",
            "description": "",
            "description_tooltip": null,
            "layout": "IPY_MODEL_e28658db4b1641b7a62ab14bfe5bf82f",
            "max": 50000,
            "min": 0,
            "orientation": "horizontal",
            "style": "IPY_MODEL_72e07d66eec34a1098e7e516c349b9ca",
            "value": 19618
          }
        }
      }
    }
  },
  "nbformat": 4,
  "nbformat_minor": 5
}